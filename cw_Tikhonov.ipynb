{
 "cells": [
  {
   "cell_type": "code",
   "execution_count": 1,
   "metadata": {},
   "outputs": [],
   "source": [
    "# Основные библиотеки\n",
    "import matplotlib.pyplot as plt\n",
    "import numpy as np\n",
    "import pandas as pd\n",
    "import seaborn as sns\n",
    "import pickle   # сохранение модели\n",
    "%matplotlib inline\n",
    "\n",
    "# Отладка модели\n",
    "from sklearn.model_selection import train_test_split\n",
    "\n",
    "# Модели\n",
    "from sklearn.linear_model import LinearRegression\n",
    "from sklearn.tree import DecisionTreeRegressor, plot_tree\n",
    "from sklearn.ensemble import RandomForestRegressor, GradientBoostingRegressor\n",
    "\n",
    "# Метрики качества\n",
    "from sklearn.metrics import mean_squared_error as mse, r2_score as r2\n"
   ]
  },
  {
   "cell_type": "code",
   "execution_count": 2,
   "metadata": {},
   "outputs": [],
   "source": [
    "import warnings\n",
    "warnings.filterwarnings('ignore')"
   ]
  },
  {
   "cell_type": "markdown",
   "metadata": {},
   "source": [
    "Загрузим данные из файлов csv:"
   ]
  },
  {
   "cell_type": "code",
   "execution_count": 3,
   "metadata": {},
   "outputs": [],
   "source": [
    "DATASET_PATH_TRAIN = './train.csv'\n",
    "DATASET_PATH_TEST = './test.csv'\n",
    "PREPARED_DATASET_PATH_TRAIN = './train_prepared.csv'\n",
    "PREPARED_DATASET_PATH_TEST = './test_prepared.csv'\n",
    "PREPARED_DATASET_PATH_VALID = './valid_prepared.csv'\n",
    "REPORTS_FILE_PATH = './'\n",
    "PREDICTED_DATASET_PATH_TEST = './test_pred.csv'\n",
    "\n",
    "\n",
    "train_data = pd.read_csv(DATASET_PATH_TRAIN)\n",
    "test_data = pd.read_csv(DATASET_PATH_TEST)"
   ]
  },
  {
   "cell_type": "markdown",
   "metadata": {},
   "source": [
    "Проверим количество пропусков (NaN):"
   ]
  },
  {
   "cell_type": "code",
   "execution_count": 4,
   "metadata": {},
   "outputs": [
    {
     "data": {
      "text/plain": [
       "Id                  0\n",
       "DistrictId          0\n",
       "Rooms               0\n",
       "Square              0\n",
       "LifeSquare       2113\n",
       "KitchenSquare       0\n",
       "Floor               0\n",
       "HouseFloor          0\n",
       "HouseYear           0\n",
       "Ecology_1           0\n",
       "Ecology_2           0\n",
       "Ecology_3           0\n",
       "Social_1            0\n",
       "Social_2            0\n",
       "Social_3            0\n",
       "Healthcare_1     4798\n",
       "Helthcare_2         0\n",
       "Shops_1             0\n",
       "Shops_2             0\n",
       "Price               0\n",
       "dtype: int64"
      ]
     },
     "execution_count": 4,
     "metadata": {},
     "output_type": "execute_result"
    }
   ],
   "source": [
    "train_data.isna().sum()"
   ]
  },
  {
   "cell_type": "code",
   "execution_count": 5,
   "metadata": {},
   "outputs": [
    {
     "data": {
      "text/plain": [
       "Id                  0\n",
       "DistrictId          0\n",
       "Rooms               0\n",
       "Square              0\n",
       "LifeSquare       1041\n",
       "KitchenSquare       0\n",
       "Floor               0\n",
       "HouseFloor          0\n",
       "HouseYear           0\n",
       "Ecology_1           0\n",
       "Ecology_2           0\n",
       "Ecology_3           0\n",
       "Social_1            0\n",
       "Social_2            0\n",
       "Social_3            0\n",
       "Healthcare_1     2377\n",
       "Helthcare_2         0\n",
       "Shops_1             0\n",
       "Shops_2             0\n",
       "dtype: int64"
      ]
     },
     "execution_count": 5,
     "metadata": {},
     "output_type": "execute_result"
    }
   ],
   "source": [
    "test_data.isna().sum()"
   ]
  },
  {
   "cell_type": "markdown",
   "metadata": {},
   "source": [
    "Заменим пропуски в столбцах их медианными значениями:"
   ]
  },
  {
   "cell_type": "code",
   "execution_count": 6,
   "metadata": {},
   "outputs": [],
   "source": [
    "train_medians = train_data[['LifeSquare', 'Healthcare_1']].median()\n",
    "test_medians = test_data[['LifeSquare', 'Healthcare_1']].median()\n",
    "\n",
    "train_data[['LifeSquare', 'Healthcare_1']] = train_data[['LifeSquare', 'Healthcare_1']].fillna(train_medians)\n",
    "test_data[['LifeSquare', 'Healthcare_1']] = test_data[['LifeSquare', 'Healthcare_1']].fillna(test_medians)"
   ]
  },
  {
   "cell_type": "markdown",
   "metadata": {},
   "source": [
    "Проверим, удалось ли заполнить пропуски:"
   ]
  },
  {
   "cell_type": "code",
   "execution_count": 7,
   "metadata": {},
   "outputs": [
    {
     "data": {
      "text/plain": [
       "0"
      ]
     },
     "execution_count": 7,
     "metadata": {},
     "output_type": "execute_result"
    }
   ],
   "source": [
    "train_data['LifeSquare'].isna().sum()"
   ]
  },
  {
   "cell_type": "code",
   "execution_count": 8,
   "metadata": {},
   "outputs": [
    {
     "data": {
      "text/plain": [
       "0"
      ]
     },
     "execution_count": 8,
     "metadata": {},
     "output_type": "execute_result"
    }
   ],
   "source": [
    "train_data['Healthcare_1'].isna().sum()"
   ]
  },
  {
   "cell_type": "code",
   "execution_count": 9,
   "metadata": {},
   "outputs": [
    {
     "data": {
      "text/plain": [
       "0"
      ]
     },
     "execution_count": 9,
     "metadata": {},
     "output_type": "execute_result"
    }
   ],
   "source": [
    "test_data['LifeSquare'].isna().sum()"
   ]
  },
  {
   "cell_type": "code",
   "execution_count": 10,
   "metadata": {},
   "outputs": [
    {
     "data": {
      "text/plain": [
       "0"
      ]
     },
     "execution_count": 10,
     "metadata": {},
     "output_type": "execute_result"
    }
   ],
   "source": [
    "test_data['Healthcare_1'].isna().sum()"
   ]
  },
  {
   "cell_type": "markdown",
   "metadata": {},
   "source": [
    "Опимизируем использование памяти для хранения признаков:"
   ]
  },
  {
   "cell_type": "code",
   "execution_count": 11,
   "metadata": {},
   "outputs": [],
   "source": [
    "def reduce_mem_usage(df):\n",
    "    \"\"\" iterate through all the columns of a dataframe and modify the data type\n",
    "        to reduce memory usage.        \n",
    "    \"\"\"\n",
    "    start_mem = df.memory_usage().sum() / 1024**2\n",
    "    print('Memory usage of dataframe is {:.2f} MB'.format(start_mem))\n",
    "    \n",
    "    for col in df.columns:\n",
    "        col_type = df[col].dtype\n",
    "        \n",
    "        if col_type != object:\n",
    "            c_min = df[col].min()\n",
    "            c_max = df[col].max()\n",
    "            if str(col_type)[:3] == 'int':\n",
    "                if c_min > np.iinfo(np.int8).min and c_max < np.iinfo(np.int8).max:\n",
    "                    df[col] = df[col].astype(np.int8)\n",
    "                elif c_min > np.iinfo(np.int16).min and c_max < np.iinfo(np.int16).max:\n",
    "                    df[col] = df[col].astype(np.int16)\n",
    "                elif c_min > np.iinfo(np.int32).min and c_max < np.iinfo(np.int32).max:\n",
    "                    df[col] = df[col].astype(np.int32)\n",
    "                elif c_min > np.iinfo(np.int64).min and c_max < np.iinfo(np.int64).max:\n",
    "                    df[col] = df[col].astype(np.int64)  \n",
    "            else:\n",
    "                if c_min > np.finfo(np.float16).min and c_max < np.finfo(np.float16).max:\n",
    "                    df[col] = df[col].astype(np.float16)\n",
    "                elif c_min > np.finfo(np.float32).min and c_max < np.finfo(np.float32).max:\n",
    "                    df[col] = df[col].astype(np.float32)\n",
    "                else:\n",
    "                    df[col] = df[col].astype(np.float64)\n",
    "        else:\n",
    "            df[col] = df[col].astype('category')\n",
    "\n",
    "    end_mem = df.memory_usage().sum() / 1024**2\n",
    "    print('Memory usage after optimization is: {:.2f} MB'.format(end_mem))\n",
    "    print('Decreased by {:.1f}%'.format(100 * (start_mem - end_mem) / start_mem))\n",
    "    \n",
    "    return df"
   ]
  },
  {
   "cell_type": "code",
   "execution_count": 12,
   "metadata": {},
   "outputs": [
    {
     "name": "stdout",
     "output_type": "stream",
     "text": [
      "Memory usage of dataframe is 1.53 MB\n",
      "Memory usage after optimization is: 0.35 MB\n",
      "Decreased by 76.9%\n"
     ]
    }
   ],
   "source": [
    "train_data = reduce_mem_usage(train_data)\n"
   ]
  },
  {
   "cell_type": "code",
   "execution_count": 13,
   "metadata": {},
   "outputs": [
    {
     "name": "stdout",
     "output_type": "stream",
     "text": [
      "Memory usage of dataframe is 0.72 MB\n",
      "Memory usage after optimization is: 0.15 MB\n",
      "Decreased by 79.6%\n"
     ]
    }
   ],
   "source": [
    "test_data = reduce_mem_usage(test_data)"
   ]
  },
  {
   "cell_type": "markdown",
   "metadata": {},
   "source": [
    "Посмотрим, как выглядит распределение нашего таргета:"
   ]
  },
  {
   "cell_type": "code",
   "execution_count": 14,
   "metadata": {},
   "outputs": [
    {
     "data": {
      "image/png": "[encoded data removed]",
      "text/plain": [
       "<Figure size 1152x576 with 1 Axes>"
      ]
     },
     "metadata": {
      "needs_background": "light"
     },
     "output_type": "display_data"
    }
   ],
   "source": [
    "plt.figure(figsize = (16, 8))\n",
    "\n",
    "train_data['Price'].hist(bins=30)\n",
    "plt.ylabel('count')\n",
    "plt.xlabel('price')\n",
    "\n",
    "plt.title('Distribution of flat price')\n",
    "plt.show()"
   ]
  },
  {
   "cell_type": "markdown",
   "metadata": {},
   "source": [
    "Явных выбросов не наблюдается."
   ]
  },
  {
   "cell_type": "markdown",
   "metadata": {},
   "source": [
    "Построим матрицу корреляции для всех признаков:"
   ]
  },
  {
   "cell_type": "code",
   "execution_count": 15,
   "metadata": {},
   "outputs": [
    {
     "data": {
      "image/png": "[encoded data removed]",
      "text/plain": [
       "<Figure size 1080x720 with 2 Axes>"
      ]
     },
     "metadata": {
      "needs_background": "light"
     },
     "output_type": "display_data"
    }
   ],
   "source": [
    "plt.figure(figsize = (15,10))\n",
    "sns.set(font_scale=1.4)\n",
    "corr_matrix = train_data.corr()\n",
    "corr_matrix = np.round(corr_matrix, 2)\n",
    "corr_matrix[np.abs(corr_matrix) <= 0.3] = 0\n",
    "\n",
    "sns.heatmap(corr_matrix, annot=True, linewidths=.5, cmap='coolwarm')\n",
    "\n",
    "plt.title('Correlation matrix')\n",
    "plt.show()"
   ]
  },
  {
   "cell_type": "markdown",
   "metadata": {},
   "source": [
    "Уберем из нашей выборки столбец \"id\", т.к. его значения уникальны для каждого наблюдения и не несут полезной информации, а также сохраним этот столбец от датасета test_data отдельно для последующего оформления ответа для kaggle:"
   ]
  },
  {
   "cell_type": "code",
   "execution_count": 16,
   "metadata": {},
   "outputs": [],
   "source": [
    "train_data = train_data[train_data.columns[1:]]\n",
    "\n",
    "test_data_id_column = test_data[test_data.columns[0]]\n",
    "test_data = test_data[test_data.columns[1:]]"
   ]
  },
  {
   "cell_type": "markdown",
   "metadata": {},
   "source": [
    "Обработка категориальных признаков\n",
    "Найдем такие признаки:"
   ]
  },
  {
   "cell_type": "code",
   "execution_count": 17,
   "metadata": {},
   "outputs": [
    {
     "data": {
      "text/plain": [
       "DistrictId          int16\n",
       "Rooms             float16\n",
       "Square            float16\n",
       "LifeSquare        float16\n",
       "KitchenSquare     float16\n",
       "Floor                int8\n",
       "HouseFloor        float16\n",
       "HouseYear           int32\n",
       "Ecology_1         float16\n",
       "Ecology_2        category\n",
       "Ecology_3        category\n",
       "Social_1             int8\n",
       "Social_2            int16\n",
       "Social_3            int16\n",
       "Healthcare_1      float16\n",
       "Helthcare_2          int8\n",
       "Shops_1              int8\n",
       "Shops_2          category\n",
       "Price             float32\n",
       "dtype: object"
      ]
     },
     "execution_count": 17,
     "metadata": {},
     "output_type": "execute_result"
    }
   ],
   "source": [
    "train_data.dtypes"
   ]
  },
  {
   "cell_type": "code",
   "execution_count": 18,
   "metadata": {},
   "outputs": [
    {
     "data": {
      "text/plain": [
       "B    9903\n",
       "A      97\n",
       "Name: Ecology_2, dtype: int64"
      ]
     },
     "execution_count": 18,
     "metadata": {},
     "output_type": "execute_result"
    }
   ],
   "source": [
    "train_data['Ecology_2'].value_counts()"
   ]
  },
  {
   "cell_type": "code",
   "execution_count": 19,
   "metadata": {},
   "outputs": [
    {
     "data": {
      "text/plain": [
       "B    9725\n",
       "A     275\n",
       "Name: Ecology_3, dtype: int64"
      ]
     },
     "execution_count": 19,
     "metadata": {},
     "output_type": "execute_result"
    }
   ],
   "source": [
    "train_data['Ecology_3'].value_counts()"
   ]
  },
  {
   "cell_type": "code",
   "execution_count": 20,
   "metadata": {},
   "outputs": [
    {
     "data": {
      "text/plain": [
       "B    9175\n",
       "A     825\n",
       "Name: Shops_2, dtype: int64"
      ]
     },
     "execution_count": 20,
     "metadata": {},
     "output_type": "execute_result"
    }
   ],
   "source": [
    "train_data['Shops_2'].value_counts()"
   ]
  },
  {
   "cell_type": "markdown",
   "metadata": {},
   "source": [
    "Преобразуем категориальные признаки в бинарный вид при помощи dummy-переменных:"
   ]
  },
  {
   "cell_type": "code",
   "execution_count": 21,
   "metadata": {},
   "outputs": [
    {
     "name": "stdout",
     "output_type": "stream",
     "text": [
      "<class 'pandas.core.frame.DataFrame'>\n",
      "RangeIndex: 10000 entries, 0 to 9999\n",
      "Data columns (total 22 columns):\n",
      " #   Column         Non-Null Count  Dtype  \n",
      "---  ------         --------------  -----  \n",
      " 0   DistrictId     10000 non-null  int16  \n",
      " 1   Rooms          10000 non-null  float16\n",
      " 2   Square         10000 non-null  float16\n",
      " 3   LifeSquare     10000 non-null  float16\n",
      " 4   KitchenSquare  10000 non-null  float16\n",
      " 5   Floor          10000 non-null  int8   \n",
      " 6   HouseFloor     10000 non-null  float16\n",
      " 7   HouseYear      10000 non-null  int32  \n",
      " 8   Ecology_1      10000 non-null  float16\n",
      " 9   Social_1       10000 non-null  int8   \n",
      " 10  Social_2       10000 non-null  int16  \n",
      " 11  Social_3       10000 non-null  int16  \n",
      " 12  Healthcare_1   10000 non-null  float16\n",
      " 13  Helthcare_2    10000 non-null  int8   \n",
      " 14  Shops_1        10000 non-null  int8   \n",
      " 15  Price          10000 non-null  float32\n",
      " 16  Ecology_2_A    10000 non-null  uint8  \n",
      " 17  Ecology_2_B    10000 non-null  uint8  \n",
      " 18  Ecology_3_A    10000 non-null  uint8  \n",
      " 19  Ecology_3_B    10000 non-null  uint8  \n",
      " 20  Shops_2_A      10000 non-null  uint8  \n",
      " 21  Shops_2_B      10000 non-null  uint8  \n",
      "dtypes: float16(7), float32(1), int16(3), int32(1), int8(4), uint8(6)\n",
      "memory usage: 371.2 KB\n"
     ]
    }
   ],
   "source": [
    "train_data = pd.get_dummies(train_data)\n",
    "train_data.info()"
   ]
  },
  {
   "cell_type": "code",
   "execution_count": 22,
   "metadata": {},
   "outputs": [
    {
     "name": "stdout",
     "output_type": "stream",
     "text": [
      "<class 'pandas.core.frame.DataFrame'>\n",
      "RangeIndex: 5000 entries, 0 to 4999\n",
      "Data columns (total 21 columns):\n",
      " #   Column         Non-Null Count  Dtype  \n",
      "---  ------         --------------  -----  \n",
      " 0   DistrictId     5000 non-null   int16  \n",
      " 1   Rooms          5000 non-null   float16\n",
      " 2   Square         5000 non-null   float16\n",
      " 3   LifeSquare     5000 non-null   float16\n",
      " 4   KitchenSquare  5000 non-null   float16\n",
      " 5   Floor          5000 non-null   int8   \n",
      " 6   HouseFloor     5000 non-null   float16\n",
      " 7   HouseYear      5000 non-null   int16  \n",
      " 8   Ecology_1      5000 non-null   float16\n",
      " 9   Social_1       5000 non-null   int8   \n",
      " 10  Social_2       5000 non-null   int16  \n",
      " 11  Social_3       5000 non-null   int16  \n",
      " 12  Healthcare_1   5000 non-null   float16\n",
      " 13  Helthcare_2    5000 non-null   int8   \n",
      " 14  Shops_1        5000 non-null   int8   \n",
      " 15  Ecology_2_A    5000 non-null   uint8  \n",
      " 16  Ecology_2_B    5000 non-null   uint8  \n",
      " 17  Ecology_3_A    5000 non-null   uint8  \n",
      " 18  Ecology_3_B    5000 non-null   uint8  \n",
      " 19  Shops_2_A      5000 non-null   uint8  \n",
      " 20  Shops_2_B      5000 non-null   uint8  \n",
      "dtypes: float16(7), int16(4), int8(4), uint8(6)\n",
      "memory usage: 156.4 KB\n"
     ]
    }
   ],
   "source": [
    "test_data = pd.get_dummies(test_data)\n",
    "test_data.info()"
   ]
  },
  {
   "cell_type": "markdown",
   "metadata": {},
   "source": [
    "Из тренировочной выборки выделим таргет, а также разобьем датасет на тренировочный и валидационный:"
   ]
  },
  {
   "cell_type": "code",
   "execution_count": 23,
   "metadata": {},
   "outputs": [],
   "source": [
    "y = train_data['Price']\n",
    "X = train_data\n",
    "del X['Price']\n",
    "X_train, X_valid, y_train, y_valid = train_test_split(X, y, test_size=0.3, shuffle=True, random_state=42)\n"
   ]
  },
  {
   "cell_type": "code",
   "execution_count": 24,
   "metadata": {},
   "outputs": [],
   "source": [
    "X_test = test_data"
   ]
  },
  {
   "cell_type": "markdown",
   "metadata": {},
   "source": [
    "Приведем все числовые признаки к единой размерности (кроме dummy - признаков).\n",
    "Подготовим список из названий столбцов, которые собираемся стандартизировать:"
   ]
  },
  {
   "cell_type": "code",
   "execution_count": 25,
   "metadata": {},
   "outputs": [
    {
     "data": {
      "text/plain": [
       "['DistrictId',\n",
       " 'Rooms',\n",
       " 'Square',\n",
       " 'LifeSquare',\n",
       " 'KitchenSquare',\n",
       " 'Floor',\n",
       " 'HouseFloor',\n",
       " 'HouseYear',\n",
       " 'Ecology_1',\n",
       " 'Social_1',\n",
       " 'Social_2',\n",
       " 'Social_3',\n",
       " 'Healthcare_1',\n",
       " 'Helthcare_2',\n",
       " 'Shops_1',\n",
       " 'Ecology_2_A',\n",
       " 'Ecology_2_B',\n",
       " 'Ecology_3_A',\n",
       " 'Ecology_3_B',\n",
       " 'Shops_2_A',\n",
       " 'Shops_2_B']"
      ]
     },
     "execution_count": 25,
     "metadata": {},
     "output_type": "execute_result"
    }
   ],
   "source": [
    "feature_names = list(X_train)\n",
    "feature_names"
   ]
  },
  {
   "cell_type": "code",
   "execution_count": 26,
   "metadata": {},
   "outputs": [
    {
     "data": {
      "text/plain": [
       "15"
      ]
     },
     "execution_count": 26,
     "metadata": {},
     "output_type": "execute_result"
    }
   ],
   "source": [
    "feature_names.index('Ecology_2_A')"
   ]
  },
  {
   "cell_type": "code",
   "execution_count": 27,
   "metadata": {},
   "outputs": [],
   "source": [
    "features_for_std = feature_names[:feature_names.index('Ecology_2_A')]"
   ]
  },
  {
   "cell_type": "code",
   "execution_count": 28,
   "metadata": {},
   "outputs": [
    {
     "data": {
      "text/plain": [
       "['DistrictId',\n",
       " 'Rooms',\n",
       " 'Square',\n",
       " 'LifeSquare',\n",
       " 'KitchenSquare',\n",
       " 'Floor',\n",
       " 'HouseFloor',\n",
       " 'HouseYear',\n",
       " 'Ecology_1',\n",
       " 'Social_1',\n",
       " 'Social_2',\n",
       " 'Social_3',\n",
       " 'Healthcare_1',\n",
       " 'Helthcare_2',\n",
       " 'Shops_1']"
      ]
     },
     "execution_count": 28,
     "metadata": {},
     "output_type": "execute_result"
    }
   ],
   "source": [
    "features_for_std"
   ]
  },
  {
   "cell_type": "markdown",
   "metadata": {},
   "source": [
    "Непосредственно сама стандартизация:"
   ]
  },
  {
   "cell_type": "code",
   "execution_count": 29,
   "metadata": {},
   "outputs": [],
   "source": [
    "from sklearn.preprocessing import StandardScaler\n",
    "scaler = StandardScaler()"
   ]
  },
  {
   "cell_type": "code",
   "execution_count": 30,
   "metadata": {},
   "outputs": [
    {
     "data": {
      "text/html": [
       "<div>\n",
       "<style scoped>\n",
       "    .dataframe tbody tr th:only-of-type {\n",
       "        vertical-align: middle;\n",
       "    }\n",
       "\n",
       "    .dataframe tbody tr th {\n",
       "        vertical-align: top;\n",
       "    }\n",
       "\n",
       "    .dataframe thead th {\n",
       "        text-align: right;\n",
       "    }\n",
       "</style>\n",
       "<table border=\"1\" class=\"dataframe\">\n",
       "  <thead>\n",
       "    <tr style=\"text-align: right;\">\n",
       "      <th></th>\n",
       "      <th>DistrictId</th>\n",
       "      <th>Rooms</th>\n",
       "      <th>Square</th>\n",
       "      <th>LifeSquare</th>\n",
       "      <th>KitchenSquare</th>\n",
       "      <th>Floor</th>\n",
       "      <th>HouseFloor</th>\n",
       "      <th>HouseYear</th>\n",
       "      <th>Ecology_1</th>\n",
       "      <th>Social_1</th>\n",
       "      <th>...</th>\n",
       "      <th>Social_3</th>\n",
       "      <th>Healthcare_1</th>\n",
       "      <th>Helthcare_2</th>\n",
       "      <th>Shops_1</th>\n",
       "      <th>Ecology_2_A</th>\n",
       "      <th>Ecology_2_B</th>\n",
       "      <th>Ecology_3_A</th>\n",
       "      <th>Ecology_3_B</th>\n",
       "      <th>Shops_2_A</th>\n",
       "      <th>Shops_2_B</th>\n",
       "    </tr>\n",
       "  </thead>\n",
       "  <tbody>\n",
       "    <tr>\n",
       "      <th>9069</th>\n",
       "      <td>-0.630091</td>\n",
       "      <td>-1.054837</td>\n",
       "      <td>-0.712975</td>\n",
       "      <td>-0.151436</td>\n",
       "      <td>0.044394</td>\n",
       "      <td>1.049227</td>\n",
       "      <td>0.634289</td>\n",
       "      <td>-0.011829</td>\n",
       "      <td>-0.354434</td>\n",
       "      <td>-1.067393</td>\n",
       "      <td>...</td>\n",
       "      <td>-0.211351</td>\n",
       "      <td>-0.163616</td>\n",
       "      <td>-0.882358</td>\n",
       "      <td>-0.468543</td>\n",
       "      <td>0</td>\n",
       "      <td>1</td>\n",
       "      <td>0</td>\n",
       "      <td>1</td>\n",
       "      <td>0</td>\n",
       "      <td>1</td>\n",
       "    </tr>\n",
       "    <tr>\n",
       "      <th>2603</th>\n",
       "      <td>-0.630091</td>\n",
       "      <td>1.317487</td>\n",
       "      <td>5.227522</td>\n",
       "      <td>1.379542</td>\n",
       "      <td>0.162051</td>\n",
       "      <td>-0.674360</td>\n",
       "      <td>-1.409248</td>\n",
       "      <td>-0.011988</td>\n",
       "      <td>-0.874963</td>\n",
       "      <td>-1.294890</td>\n",
       "      <td>...</td>\n",
       "      <td>-0.337040</td>\n",
       "      <td>-0.163616</td>\n",
       "      <td>-0.882358</td>\n",
       "      <td>-0.883079</td>\n",
       "      <td>0</td>\n",
       "      <td>1</td>\n",
       "      <td>0</td>\n",
       "      <td>1</td>\n",
       "      <td>0</td>\n",
       "      <td>1</td>\n",
       "    </tr>\n",
       "    <tr>\n",
       "      <th>7738</th>\n",
       "      <td>0.833065</td>\n",
       "      <td>-1.054837</td>\n",
       "      <td>-0.808986</td>\n",
       "      <td>-0.187481</td>\n",
       "      <td>0.044394</td>\n",
       "      <td>-0.865870</td>\n",
       "      <td>0.634289</td>\n",
       "      <td>-0.011950</td>\n",
       "      <td>-0.146505</td>\n",
       "      <td>1.036957</td>\n",
       "      <td>...</td>\n",
       "      <td>-0.337040</td>\n",
       "      <td>-0.163616</td>\n",
       "      <td>-0.210414</td>\n",
       "      <td>0.360527</td>\n",
       "      <td>0</td>\n",
       "      <td>1</td>\n",
       "      <td>0</td>\n",
       "      <td>1</td>\n",
       "      <td>1</td>\n",
       "      <td>0</td>\n",
       "    </tr>\n",
       "    <tr>\n",
       "      <th>1579</th>\n",
       "      <td>-0.058546</td>\n",
       "      <td>1.317487</td>\n",
       "      <td>1.938761</td>\n",
       "      <td>0.680021</td>\n",
       "      <td>-0.161504</td>\n",
       "      <td>1.240736</td>\n",
       "      <td>-1.701182</td>\n",
       "      <td>-0.011821</td>\n",
       "      <td>-0.646769</td>\n",
       "      <td>1.207580</td>\n",
       "      <td>...</td>\n",
       "      <td>-0.127557</td>\n",
       "      <td>-0.163616</td>\n",
       "      <td>-0.210414</td>\n",
       "      <td>1.189598</td>\n",
       "      <td>0</td>\n",
       "      <td>1</td>\n",
       "      <td>0</td>\n",
       "      <td>1</td>\n",
       "      <td>0</td>\n",
       "      <td>1</td>\n",
       "    </tr>\n",
       "    <tr>\n",
       "      <th>5058</th>\n",
       "      <td>0.604447</td>\n",
       "      <td>1.317487</td>\n",
       "      <td>1.115808</td>\n",
       "      <td>0.087084</td>\n",
       "      <td>0.103223</td>\n",
       "      <td>1.432246</td>\n",
       "      <td>0.634289</td>\n",
       "      <td>-0.011959</td>\n",
       "      <td>1.520012</td>\n",
       "      <td>-0.498650</td>\n",
       "      <td>...</td>\n",
       "      <td>-0.211351</td>\n",
       "      <td>-0.163616</td>\n",
       "      <td>-0.210414</td>\n",
       "      <td>-0.261276</td>\n",
       "      <td>0</td>\n",
       "      <td>1</td>\n",
       "      <td>0</td>\n",
       "      <td>1</td>\n",
       "      <td>0</td>\n",
       "      <td>1</td>\n",
       "    </tr>\n",
       "    <tr>\n",
       "      <th>...</th>\n",
       "      <td>...</td>\n",
       "      <td>...</td>\n",
       "      <td>...</td>\n",
       "      <td>...</td>\n",
       "      <td>...</td>\n",
       "      <td>...</td>\n",
       "      <td>...</td>\n",
       "      <td>...</td>\n",
       "      <td>...</td>\n",
       "      <td>...</td>\n",
       "      <td>...</td>\n",
       "      <td>...</td>\n",
       "      <td>...</td>\n",
       "      <td>...</td>\n",
       "      <td>...</td>\n",
       "      <td>...</td>\n",
       "      <td>...</td>\n",
       "      <td>...</td>\n",
       "      <td>...</td>\n",
       "      <td>...</td>\n",
       "      <td>...</td>\n",
       "    </tr>\n",
       "    <tr>\n",
       "      <th>5734</th>\n",
       "      <td>-0.470059</td>\n",
       "      <td>0.131325</td>\n",
       "      <td>0.288284</td>\n",
       "      <td>0.285765</td>\n",
       "      <td>-0.161504</td>\n",
       "      <td>-0.865870</td>\n",
       "      <td>-1.555215</td>\n",
       "      <td>-0.011829</td>\n",
       "      <td>-0.993001</td>\n",
       "      <td>-0.157404</td>\n",
       "      <td>...</td>\n",
       "      <td>5.570384</td>\n",
       "      <td>0.032699</td>\n",
       "      <td>1.133473</td>\n",
       "      <td>3.884077</td>\n",
       "      <td>0</td>\n",
       "      <td>1</td>\n",
       "      <td>0</td>\n",
       "      <td>1</td>\n",
       "      <td>0</td>\n",
       "      <td>1</td>\n",
       "    </tr>\n",
       "    <tr>\n",
       "      <th>5191</th>\n",
       "      <td>-0.584368</td>\n",
       "      <td>1.317487</td>\n",
       "      <td>1.438893</td>\n",
       "      <td>-0.041230</td>\n",
       "      <td>-0.161504</td>\n",
       "      <td>0.091678</td>\n",
       "      <td>1.802024</td>\n",
       "      <td>-0.011817</td>\n",
       "      <td>-0.405386</td>\n",
       "      <td>1.605700</td>\n",
       "      <td>...</td>\n",
       "      <td>-0.169454</td>\n",
       "      <td>-0.163616</td>\n",
       "      <td>-0.210414</td>\n",
       "      <td>1.396866</td>\n",
       "      <td>0</td>\n",
       "      <td>1</td>\n",
       "      <td>0</td>\n",
       "      <td>1</td>\n",
       "      <td>0</td>\n",
       "      <td>1</td>\n",
       "    </tr>\n",
       "    <tr>\n",
       "      <th>5390</th>\n",
       "      <td>-1.133051</td>\n",
       "      <td>1.317487</td>\n",
       "      <td>1.313926</td>\n",
       "      <td>-0.041230</td>\n",
       "      <td>-0.161504</td>\n",
       "      <td>0.857717</td>\n",
       "      <td>0.634289</td>\n",
       "      <td>-0.011988</td>\n",
       "      <td>-0.933604</td>\n",
       "      <td>-1.351764</td>\n",
       "      <td>...</td>\n",
       "      <td>-0.337040</td>\n",
       "      <td>-0.163616</td>\n",
       "      <td>-0.882358</td>\n",
       "      <td>-0.675811</td>\n",
       "      <td>0</td>\n",
       "      <td>1</td>\n",
       "      <td>0</td>\n",
       "      <td>1</td>\n",
       "      <td>0</td>\n",
       "      <td>1</td>\n",
       "    </tr>\n",
       "    <tr>\n",
       "      <th>860</th>\n",
       "      <td>0.993098</td>\n",
       "      <td>1.317487</td>\n",
       "      <td>-0.242064</td>\n",
       "      <td>0.000161</td>\n",
       "      <td>-0.043848</td>\n",
       "      <td>-1.440399</td>\n",
       "      <td>-0.533446</td>\n",
       "      <td>-0.012005</td>\n",
       "      <td>0.079952</td>\n",
       "      <td>1.036957</td>\n",
       "      <td>...</td>\n",
       "      <td>-0.211351</td>\n",
       "      <td>-0.163616</td>\n",
       "      <td>1.133473</td>\n",
       "      <td>0.982330</td>\n",
       "      <td>0</td>\n",
       "      <td>1</td>\n",
       "      <td>0</td>\n",
       "      <td>1</td>\n",
       "      <td>0</td>\n",
       "      <td>1</td>\n",
       "    </tr>\n",
       "    <tr>\n",
       "      <th>7270</th>\n",
       "      <td>-1.110189</td>\n",
       "      <td>0.131325</td>\n",
       "      <td>1.563860</td>\n",
       "      <td>0.069493</td>\n",
       "      <td>0.132637</td>\n",
       "      <td>0.666207</td>\n",
       "      <td>0.488322</td>\n",
       "      <td>-0.011921</td>\n",
       "      <td>-0.697207</td>\n",
       "      <td>0.980082</td>\n",
       "      <td>...</td>\n",
       "      <td>-0.211351</td>\n",
       "      <td>2.149139</td>\n",
       "      <td>-0.882358</td>\n",
       "      <td>-0.261276</td>\n",
       "      <td>0</td>\n",
       "      <td>1</td>\n",
       "      <td>0</td>\n",
       "      <td>1</td>\n",
       "      <td>0</td>\n",
       "      <td>1</td>\n",
       "    </tr>\n",
       "  </tbody>\n",
       "</table>\n",
       "<p>7000 rows × 21 columns</p>\n",
       "</div>"
      ],
      "text/plain": [
       "      DistrictId     Rooms    Square  LifeSquare  KitchenSquare     Floor  \\\n",
       "9069   -0.630091 -1.054837 -0.712975   -0.151436       0.044394  1.049227   \n",
       "2603   -0.630091  1.317487  5.227522    1.379542       0.162051 -0.674360   \n",
       "7738    0.833065 -1.054837 -0.808986   -0.187481       0.044394 -0.865870   \n",
       "1579   -0.058546  1.317487  1.938761    0.680021      -0.161504  1.240736   \n",
       "5058    0.604447  1.317487  1.115808    0.087084       0.103223  1.432246   \n",
       "...          ...       ...       ...         ...            ...       ...   \n",
       "5734   -0.470059  0.131325  0.288284    0.285765      -0.161504 -0.865870   \n",
       "5191   -0.584368  1.317487  1.438893   -0.041230      -0.161504  0.091678   \n",
       "5390   -1.133051  1.317487  1.313926   -0.041230      -0.161504  0.857717   \n",
       "860     0.993098  1.317487 -0.242064    0.000161      -0.043848 -1.440399   \n",
       "7270   -1.110189  0.131325  1.563860    0.069493       0.132637  0.666207   \n",
       "\n",
       "      HouseFloor  HouseYear  Ecology_1  Social_1  ...  Social_3  Healthcare_1  \\\n",
       "9069    0.634289  -0.011829  -0.354434 -1.067393  ... -0.211351     -0.163616   \n",
       "2603   -1.409248  -0.011988  -0.874963 -1.294890  ... -0.337040     -0.163616   \n",
       "7738    0.634289  -0.011950  -0.146505  1.036957  ... -0.337040     -0.163616   \n",
       "1579   -1.701182  -0.011821  -0.646769  1.207580  ... -0.127557     -0.163616   \n",
       "5058    0.634289  -0.011959   1.520012 -0.498650  ... -0.211351     -0.163616   \n",
       "...          ...        ...        ...       ...  ...       ...           ...   \n",
       "5734   -1.555215  -0.011829  -0.993001 -0.157404  ...  5.570384      0.032699   \n",
       "5191    1.802024  -0.011817  -0.405386  1.605700  ... -0.169454     -0.163616   \n",
       "5390    0.634289  -0.011988  -0.933604 -1.351764  ... -0.337040     -0.163616   \n",
       "860    -0.533446  -0.012005   0.079952  1.036957  ... -0.211351     -0.163616   \n",
       "7270    0.488322  -0.011921  -0.697207  0.980082  ... -0.211351      2.149139   \n",
       "\n",
       "      Helthcare_2   Shops_1  Ecology_2_A  Ecology_2_B  Ecology_3_A  \\\n",
       "9069    -0.882358 -0.468543            0            1            0   \n",
       "2603    -0.882358 -0.883079            0            1            0   \n",
       "7738    -0.210414  0.360527            0            1            0   \n",
       "1579    -0.210414  1.189598            0            1            0   \n",
       "5058    -0.210414 -0.261276            0            1            0   \n",
       "...           ...       ...          ...          ...          ...   \n",
       "5734     1.133473  3.884077            0            1            0   \n",
       "5191    -0.210414  1.396866            0            1            0   \n",
       "5390    -0.882358 -0.675811            0            1            0   \n",
       "860      1.133473  0.982330            0            1            0   \n",
       "7270    -0.882358 -0.261276            0            1            0   \n",
       "\n",
       "      Ecology_3_B  Shops_2_A  Shops_2_B  \n",
       "9069            1          0          1  \n",
       "2603            1          0          1  \n",
       "7738            1          1          0  \n",
       "1579            1          0          1  \n",
       "5058            1          0          1  \n",
       "...           ...        ...        ...  \n",
       "5734            1          0          1  \n",
       "5191            1          0          1  \n",
       "5390            1          0          1  \n",
       "860             1          0          1  \n",
       "7270            1          0          1  \n",
       "\n",
       "[7000 rows x 21 columns]"
      ]
     },
     "execution_count": 30,
     "metadata": {},
     "output_type": "execute_result"
    }
   ],
   "source": [
    "X_train_scaled = X_train\n",
    "X_train_scaled[features_for_std] = scaler.fit_transform(X_train_scaled[features_for_std])\n",
    "X_train_scaled\n"
   ]
  },
  {
   "cell_type": "code",
   "execution_count": 31,
   "metadata": {},
   "outputs": [
    {
     "data": {
      "text/html": [
       "<div>\n",
       "<style scoped>\n",
       "    .dataframe tbody tr th:only-of-type {\n",
       "        vertical-align: middle;\n",
       "    }\n",
       "\n",
       "    .dataframe tbody tr th {\n",
       "        vertical-align: top;\n",
       "    }\n",
       "\n",
       "    .dataframe thead th {\n",
       "        text-align: right;\n",
       "    }\n",
       "</style>\n",
       "<table border=\"1\" class=\"dataframe\">\n",
       "  <thead>\n",
       "    <tr style=\"text-align: right;\">\n",
       "      <th></th>\n",
       "      <th>DistrictId</th>\n",
       "      <th>Rooms</th>\n",
       "      <th>Square</th>\n",
       "      <th>LifeSquare</th>\n",
       "      <th>KitchenSquare</th>\n",
       "      <th>Floor</th>\n",
       "      <th>HouseFloor</th>\n",
       "      <th>HouseYear</th>\n",
       "      <th>Ecology_1</th>\n",
       "      <th>Social_1</th>\n",
       "      <th>...</th>\n",
       "      <th>Social_3</th>\n",
       "      <th>Healthcare_1</th>\n",
       "      <th>Helthcare_2</th>\n",
       "      <th>Shops_1</th>\n",
       "      <th>Ecology_2_A</th>\n",
       "      <th>Ecology_2_B</th>\n",
       "      <th>Ecology_3_A</th>\n",
       "      <th>Ecology_3_B</th>\n",
       "      <th>Shops_2_A</th>\n",
       "      <th>Shops_2_B</th>\n",
       "    </tr>\n",
       "  </thead>\n",
       "  <tbody>\n",
       "    <tr>\n",
       "      <th>0</th>\n",
       "      <td>0.152140</td>\n",
       "      <td>0.107333</td>\n",
       "      <td>-0.344374</td>\n",
       "      <td>-0.128858</td>\n",
       "      <td>0.002332</td>\n",
       "      <td>-0.480057</td>\n",
       "      <td>0.206083</td>\n",
       "      <td>-0.667299</td>\n",
       "      <td>1.586167</td>\n",
       "      <td>-0.794834</td>\n",
       "      <td>...</td>\n",
       "      <td>-0.304366</td>\n",
       "      <td>-0.168810</td>\n",
       "      <td>-0.891612</td>\n",
       "      <td>-0.888194</td>\n",
       "      <td>0</td>\n",
       "      <td>1</td>\n",
       "      <td>0</td>\n",
       "      <td>1</td>\n",
       "      <td>0</td>\n",
       "      <td>1</td>\n",
       "    </tr>\n",
       "    <tr>\n",
       "      <th>1</th>\n",
       "      <td>0.514336</td>\n",
       "      <td>0.107333</td>\n",
       "      <td>0.670478</td>\n",
       "      <td>-0.160279</td>\n",
       "      <td>-0.500230</td>\n",
       "      <td>-0.480057</td>\n",
       "      <td>-1.708911</td>\n",
       "      <td>-0.398066</td>\n",
       "      <td>-0.367043</td>\n",
       "      <td>-1.080052</td>\n",
       "      <td>...</td>\n",
       "      <td>-0.220549</td>\n",
       "      <td>-0.168810</td>\n",
       "      <td>-0.891612</td>\n",
       "      <td>-0.469511</td>\n",
       "      <td>0</td>\n",
       "      <td>1</td>\n",
       "      <td>0</td>\n",
       "      <td>1</td>\n",
       "      <td>0</td>\n",
       "      <td>1</td>\n",
       "    </tr>\n",
       "    <tr>\n",
       "      <th>2</th>\n",
       "      <td>3.140252</td>\n",
       "      <td>-1.085258</td>\n",
       "      <td>-2.244359</td>\n",
       "      <td>-1.228101</td>\n",
       "      <td>0.605406</td>\n",
       "      <td>-1.209628</td>\n",
       "      <td>-1.119682</td>\n",
       "      <td>-4.059631</td>\n",
       "      <td>-0.998456</td>\n",
       "      <td>0.288994</td>\n",
       "      <td>...</td>\n",
       "      <td>3.299784</td>\n",
       "      <td>4.793748</td>\n",
       "      <td>2.487242</td>\n",
       "      <td>0.158513</td>\n",
       "      <td>0</td>\n",
       "      <td>1</td>\n",
       "      <td>0</td>\n",
       "      <td>1</td>\n",
       "      <td>0</td>\n",
       "      <td>1</td>\n",
       "    </tr>\n",
       "    <tr>\n",
       "      <th>3</th>\n",
       "      <td>-0.096869</td>\n",
       "      <td>0.107333</td>\n",
       "      <td>0.870175</td>\n",
       "      <td>1.033719</td>\n",
       "      <td>0.303869</td>\n",
       "      <td>2.438224</td>\n",
       "      <td>1.384540</td>\n",
       "      <td>1.217331</td>\n",
       "      <td>-0.149964</td>\n",
       "      <td>-0.110311</td>\n",
       "      <td>...</td>\n",
       "      <td>-0.220549</td>\n",
       "      <td>-0.168810</td>\n",
       "      <td>1.135700</td>\n",
       "      <td>-0.260169</td>\n",
       "      <td>0</td>\n",
       "      <td>1</td>\n",
       "      <td>0</td>\n",
       "      <td>1</td>\n",
       "      <td>0</td>\n",
       "      <td>1</td>\n",
       "    </tr>\n",
       "    <tr>\n",
       "      <th>4</th>\n",
       "      <td>-0.549613</td>\n",
       "      <td>-1.085258</td>\n",
       "      <td>-0.467139</td>\n",
       "      <td>0.495635</td>\n",
       "      <td>-0.500230</td>\n",
       "      <td>1.526261</td>\n",
       "      <td>0.648004</td>\n",
       "      <td>1.755796</td>\n",
       "      <td>-0.397546</td>\n",
       "      <td>-1.308227</td>\n",
       "      <td>...</td>\n",
       "      <td>-0.304366</td>\n",
       "      <td>-0.168810</td>\n",
       "      <td>-0.891612</td>\n",
       "      <td>-0.888194</td>\n",
       "      <td>0</td>\n",
       "      <td>1</td>\n",
       "      <td>0</td>\n",
       "      <td>1</td>\n",
       "      <td>1</td>\n",
       "      <td>0</td>\n",
       "    </tr>\n",
       "    <tr>\n",
       "      <th>...</th>\n",
       "      <td>...</td>\n",
       "      <td>...</td>\n",
       "      <td>...</td>\n",
       "      <td>...</td>\n",
       "      <td>...</td>\n",
       "      <td>...</td>\n",
       "      <td>...</td>\n",
       "      <td>...</td>\n",
       "      <td>...</td>\n",
       "      <td>...</td>\n",
       "      <td>...</td>\n",
       "      <td>...</td>\n",
       "      <td>...</td>\n",
       "      <td>...</td>\n",
       "      <td>...</td>\n",
       "      <td>...</td>\n",
       "      <td>...</td>\n",
       "      <td>...</td>\n",
       "      <td>...</td>\n",
       "      <td>...</td>\n",
       "      <td>...</td>\n",
       "    </tr>\n",
       "    <tr>\n",
       "      <th>4995</th>\n",
       "      <td>-0.911809</td>\n",
       "      <td>1.299924</td>\n",
       "      <td>0.559172</td>\n",
       "      <td>0.963022</td>\n",
       "      <td>0.002332</td>\n",
       "      <td>-0.662450</td>\n",
       "      <td>-0.530453</td>\n",
       "      <td>-0.613452</td>\n",
       "      <td>-0.997043</td>\n",
       "      <td>0.631256</td>\n",
       "      <td>...</td>\n",
       "      <td>-0.346275</td>\n",
       "      <td>-0.168810</td>\n",
       "      <td>-0.215841</td>\n",
       "      <td>-0.678852</td>\n",
       "      <td>0</td>\n",
       "      <td>1</td>\n",
       "      <td>0</td>\n",
       "      <td>1</td>\n",
       "      <td>0</td>\n",
       "      <td>1</td>\n",
       "    </tr>\n",
       "    <tr>\n",
       "      <th>4996</th>\n",
       "      <td>-1.138181</td>\n",
       "      <td>-1.085258</td>\n",
       "      <td>-0.851801</td>\n",
       "      <td>-0.859396</td>\n",
       "      <td>0.404381</td>\n",
       "      <td>0.614298</td>\n",
       "      <td>0.648004</td>\n",
       "      <td>1.755796</td>\n",
       "      <td>-0.939134</td>\n",
       "      <td>-1.365270</td>\n",
       "      <td>...</td>\n",
       "      <td>-0.346275</td>\n",
       "      <td>-0.168810</td>\n",
       "      <td>-0.891612</td>\n",
       "      <td>-0.678852</td>\n",
       "      <td>0</td>\n",
       "      <td>1</td>\n",
       "      <td>0</td>\n",
       "      <td>1</td>\n",
       "      <td>0</td>\n",
       "      <td>1</td>\n",
       "    </tr>\n",
       "    <tr>\n",
       "      <th>4997</th>\n",
       "      <td>-0.889172</td>\n",
       "      <td>1.299924</td>\n",
       "      <td>1.118978</td>\n",
       "      <td>0.803953</td>\n",
       "      <td>0.303869</td>\n",
       "      <td>2.620616</td>\n",
       "      <td>1.384540</td>\n",
       "      <td>0.248093</td>\n",
       "      <td>-0.241981</td>\n",
       "      <td>2.798913</td>\n",
       "      <td>...</td>\n",
       "      <td>-0.262458</td>\n",
       "      <td>-0.168810</td>\n",
       "      <td>2.487242</td>\n",
       "      <td>2.251927</td>\n",
       "      <td>0</td>\n",
       "      <td>1</td>\n",
       "      <td>0</td>\n",
       "      <td>1</td>\n",
       "      <td>0</td>\n",
       "      <td>1</td>\n",
       "    </tr>\n",
       "    <tr>\n",
       "      <th>4998</th>\n",
       "      <td>0.242689</td>\n",
       "      <td>0.107333</td>\n",
       "      <td>1.302306</td>\n",
       "      <td>-0.160279</td>\n",
       "      <td>-0.600742</td>\n",
       "      <td>-0.844842</td>\n",
       "      <td>-1.856218</td>\n",
       "      <td>-0.398066</td>\n",
       "      <td>-0.397546</td>\n",
       "      <td>-1.308227</td>\n",
       "      <td>...</td>\n",
       "      <td>-0.304366</td>\n",
       "      <td>-0.168810</td>\n",
       "      <td>-0.891612</td>\n",
       "      <td>-0.888194</td>\n",
       "      <td>0</td>\n",
       "      <td>1</td>\n",
       "      <td>0</td>\n",
       "      <td>1</td>\n",
       "      <td>1</td>\n",
       "      <td>0</td>\n",
       "    </tr>\n",
       "    <tr>\n",
       "      <th>4999</th>\n",
       "      <td>-0.481702</td>\n",
       "      <td>0.107333</td>\n",
       "      <td>0.215432</td>\n",
       "      <td>-0.160279</td>\n",
       "      <td>-0.500230</td>\n",
       "      <td>0.249513</td>\n",
       "      <td>0.648004</td>\n",
       "      <td>-0.398066</td>\n",
       "      <td>-0.997805</td>\n",
       "      <td>-0.167355</td>\n",
       "      <td>...</td>\n",
       "      <td>5.562856</td>\n",
       "      <td>0.021656</td>\n",
       "      <td>1.135700</td>\n",
       "      <td>3.926658</td>\n",
       "      <td>0</td>\n",
       "      <td>1</td>\n",
       "      <td>0</td>\n",
       "      <td>1</td>\n",
       "      <td>0</td>\n",
       "      <td>1</td>\n",
       "    </tr>\n",
       "  </tbody>\n",
       "</table>\n",
       "<p>5000 rows × 21 columns</p>\n",
       "</div>"
      ],
      "text/plain": [
       "      DistrictId     Rooms    Square  LifeSquare  KitchenSquare     Floor  \\\n",
       "0       0.152140  0.107333 -0.344374   -0.128858       0.002332 -0.480057   \n",
       "1       0.514336  0.107333  0.670478   -0.160279      -0.500230 -0.480057   \n",
       "2       3.140252 -1.085258 -2.244359   -1.228101       0.605406 -1.209628   \n",
       "3      -0.096869  0.107333  0.870175    1.033719       0.303869  2.438224   \n",
       "4      -0.549613 -1.085258 -0.467139    0.495635      -0.500230  1.526261   \n",
       "...          ...       ...       ...         ...            ...       ...   \n",
       "4995   -0.911809  1.299924  0.559172    0.963022       0.002332 -0.662450   \n",
       "4996   -1.138181 -1.085258 -0.851801   -0.859396       0.404381  0.614298   \n",
       "4997   -0.889172  1.299924  1.118978    0.803953       0.303869  2.620616   \n",
       "4998    0.242689  0.107333  1.302306   -0.160279      -0.600742 -0.844842   \n",
       "4999   -0.481702  0.107333  0.215432   -0.160279      -0.500230  0.249513   \n",
       "\n",
       "      HouseFloor  HouseYear  Ecology_1  Social_1  ...  Social_3  Healthcare_1  \\\n",
       "0       0.206083  -0.667299   1.586167 -0.794834  ... -0.304366     -0.168810   \n",
       "1      -1.708911  -0.398066  -0.367043 -1.080052  ... -0.220549     -0.168810   \n",
       "2      -1.119682  -4.059631  -0.998456  0.288994  ...  3.299784      4.793748   \n",
       "3       1.384540   1.217331  -0.149964 -0.110311  ... -0.220549     -0.168810   \n",
       "4       0.648004   1.755796  -0.397546 -1.308227  ... -0.304366     -0.168810   \n",
       "...          ...        ...        ...       ...  ...       ...           ...   \n",
       "4995   -0.530453  -0.613452  -0.997043  0.631256  ... -0.346275     -0.168810   \n",
       "4996    0.648004   1.755796  -0.939134 -1.365270  ... -0.346275     -0.168810   \n",
       "4997    1.384540   0.248093  -0.241981  2.798913  ... -0.262458     -0.168810   \n",
       "4998   -1.856218  -0.398066  -0.397546 -1.308227  ... -0.304366     -0.168810   \n",
       "4999    0.648004  -0.398066  -0.997805 -0.167355  ...  5.562856      0.021656   \n",
       "\n",
       "      Helthcare_2   Shops_1  Ecology_2_A  Ecology_2_B  Ecology_3_A  \\\n",
       "0       -0.891612 -0.888194            0            1            0   \n",
       "1       -0.891612 -0.469511            0            1            0   \n",
       "2        2.487242  0.158513            0            1            0   \n",
       "3        1.135700 -0.260169            0            1            0   \n",
       "4       -0.891612 -0.888194            0            1            0   \n",
       "...           ...       ...          ...          ...          ...   \n",
       "4995    -0.215841 -0.678852            0            1            0   \n",
       "4996    -0.891612 -0.678852            0            1            0   \n",
       "4997     2.487242  2.251927            0            1            0   \n",
       "4998    -0.891612 -0.888194            0            1            0   \n",
       "4999     1.135700  3.926658            0            1            0   \n",
       "\n",
       "      Ecology_3_B  Shops_2_A  Shops_2_B  \n",
       "0               1          0          1  \n",
       "1               1          0          1  \n",
       "2               1          0          1  \n",
       "3               1          0          1  \n",
       "4               1          1          0  \n",
       "...           ...        ...        ...  \n",
       "4995            1          0          1  \n",
       "4996            1          0          1  \n",
       "4997            1          0          1  \n",
       "4998            1          1          0  \n",
       "4999            1          0          1  \n",
       "\n",
       "[5000 rows x 21 columns]"
      ]
     },
     "execution_count": 31,
     "metadata": {},
     "output_type": "execute_result"
    }
   ],
   "source": [
    "X_test_scaled = X_test\n",
    "X_test_scaled[features_for_std] = scaler.fit_transform(X_test_scaled[features_for_std])\n",
    "X_test_scaled"
   ]
  },
  {
   "cell_type": "code",
   "execution_count": 32,
   "metadata": {},
   "outputs": [
    {
     "data": {
      "text/html": [
       "<div>\n",
       "<style scoped>\n",
       "    .dataframe tbody tr th:only-of-type {\n",
       "        vertical-align: middle;\n",
       "    }\n",
       "\n",
       "    .dataframe tbody tr th {\n",
       "        vertical-align: top;\n",
       "    }\n",
       "\n",
       "    .dataframe thead th {\n",
       "        text-align: right;\n",
       "    }\n",
       "</style>\n",
       "<table border=\"1\" class=\"dataframe\">\n",
       "  <thead>\n",
       "    <tr style=\"text-align: right;\">\n",
       "      <th></th>\n",
       "      <th>DistrictId</th>\n",
       "      <th>Rooms</th>\n",
       "      <th>Square</th>\n",
       "      <th>LifeSquare</th>\n",
       "      <th>KitchenSquare</th>\n",
       "      <th>Floor</th>\n",
       "      <th>HouseFloor</th>\n",
       "      <th>HouseYear</th>\n",
       "      <th>Ecology_1</th>\n",
       "      <th>Social_1</th>\n",
       "      <th>...</th>\n",
       "      <th>Social_3</th>\n",
       "      <th>Healthcare_1</th>\n",
       "      <th>Helthcare_2</th>\n",
       "      <th>Shops_1</th>\n",
       "      <th>Ecology_2_A</th>\n",
       "      <th>Ecology_2_B</th>\n",
       "      <th>Ecology_3_A</th>\n",
       "      <th>Ecology_3_B</th>\n",
       "      <th>Shops_2_A</th>\n",
       "      <th>Shops_2_B</th>\n",
       "    </tr>\n",
       "  </thead>\n",
       "  <tbody>\n",
       "    <tr>\n",
       "      <th>6252</th>\n",
       "      <td>-0.671653</td>\n",
       "      <td>0.128354</td>\n",
       "      <td>-0.337460</td>\n",
       "      <td>-0.049307</td>\n",
       "      <td>-0.165029</td>\n",
       "      <td>-0.669639</td>\n",
       "      <td>-1.137736</td>\n",
       "      <td>-1.165980</td>\n",
       "      <td>-0.724280</td>\n",
       "      <td>0.028775</td>\n",
       "      <td>...</td>\n",
       "      <td>-0.211714</td>\n",
       "      <td>-0.182216</td>\n",
       "      <td>-0.886171</td>\n",
       "      <td>-0.034231</td>\n",
       "      <td>0</td>\n",
       "      <td>1</td>\n",
       "      <td>0</td>\n",
       "      <td>1</td>\n",
       "      <td>0</td>\n",
       "      <td>1</td>\n",
       "    </tr>\n",
       "    <tr>\n",
       "      <th>4684</th>\n",
       "      <td>0.253893</td>\n",
       "      <td>1.331670</td>\n",
       "      <td>1.112110</td>\n",
       "      <td>0.676219</td>\n",
       "      <td>0.481298</td>\n",
       "      <td>-0.858839</td>\n",
       "      <td>-1.289354</td>\n",
       "      <td>-1.326867</td>\n",
       "      <td>1.474138</td>\n",
       "      <td>-0.488141</td>\n",
       "      <td>...</td>\n",
       "      <td>-0.211714</td>\n",
       "      <td>-0.182216</td>\n",
       "      <td>-0.222041</td>\n",
       "      <td>-0.244237</td>\n",
       "      <td>0</td>\n",
       "      <td>1</td>\n",
       "      <td>0</td>\n",
       "      <td>1</td>\n",
       "      <td>0</td>\n",
       "      <td>1</td>\n",
       "    </tr>\n",
       "    <tr>\n",
       "      <th>1731</th>\n",
       "      <td>-1.018732</td>\n",
       "      <td>1.331670</td>\n",
       "      <td>1.190616</td>\n",
       "      <td>-1.572738</td>\n",
       "      <td>-1.026798</td>\n",
       "      <td>-0.102041</td>\n",
       "      <td>0.681671</td>\n",
       "      <td>-0.415177</td>\n",
       "      <td>1.016293</td>\n",
       "      <td>-1.119927</td>\n",
       "      <td>...</td>\n",
       "      <td>-0.338068</td>\n",
       "      <td>-0.660078</td>\n",
       "      <td>-0.886171</td>\n",
       "      <td>-0.874255</td>\n",
       "      <td>0</td>\n",
       "      <td>1</td>\n",
       "      <td>0</td>\n",
       "      <td>1</td>\n",
       "      <td>0</td>\n",
       "      <td>1</td>\n",
       "    </tr>\n",
       "    <tr>\n",
       "      <th>4742</th>\n",
       "      <td>-0.625376</td>\n",
       "      <td>-1.074962</td>\n",
       "      <td>-1.007571</td>\n",
       "      <td>-0.281848</td>\n",
       "      <td>-1.242240</td>\n",
       "      <td>-0.669639</td>\n",
       "      <td>-1.289354</td>\n",
       "      <td>-0.415177</td>\n",
       "      <td>-0.721482</td>\n",
       "      <td>-1.407103</td>\n",
       "      <td>...</td>\n",
       "      <td>-0.338068</td>\n",
       "      <td>-0.182216</td>\n",
       "      <td>-0.886171</td>\n",
       "      <td>-0.874255</td>\n",
       "      <td>0</td>\n",
       "      <td>1</td>\n",
       "      <td>0</td>\n",
       "      <td>1</td>\n",
       "      <td>0</td>\n",
       "      <td>1</td>\n",
       "    </tr>\n",
       "    <tr>\n",
       "      <th>4521</th>\n",
       "      <td>0.045645</td>\n",
       "      <td>-1.074962</td>\n",
       "      <td>-0.594009</td>\n",
       "      <td>-0.143874</td>\n",
       "      <td>-1.026798</td>\n",
       "      <td>0.276357</td>\n",
       "      <td>0.681671</td>\n",
       "      <td>-0.415177</td>\n",
       "      <td>2.082562</td>\n",
       "      <td>0.545691</td>\n",
       "      <td>...</td>\n",
       "      <td>-0.295950</td>\n",
       "      <td>-0.381325</td>\n",
       "      <td>0.442089</td>\n",
       "      <td>0.175775</td>\n",
       "      <td>0</td>\n",
       "      <td>1</td>\n",
       "      <td>0</td>\n",
       "      <td>1</td>\n",
       "      <td>0</td>\n",
       "      <td>1</td>\n",
       "    </tr>\n",
       "    <tr>\n",
       "      <th>...</th>\n",
       "      <td>...</td>\n",
       "      <td>...</td>\n",
       "      <td>...</td>\n",
       "      <td>...</td>\n",
       "      <td>...</td>\n",
       "      <td>...</td>\n",
       "      <td>...</td>\n",
       "      <td>...</td>\n",
       "      <td>...</td>\n",
       "      <td>...</td>\n",
       "      <td>...</td>\n",
       "      <td>...</td>\n",
       "      <td>...</td>\n",
       "      <td>...</td>\n",
       "      <td>...</td>\n",
       "      <td>...</td>\n",
       "      <td>...</td>\n",
       "      <td>...</td>\n",
       "      <td>...</td>\n",
       "      <td>...</td>\n",
       "      <td>...</td>\n",
       "    </tr>\n",
       "    <tr>\n",
       "      <th>8014</th>\n",
       "      <td>-0.555960</td>\n",
       "      <td>-1.074962</td>\n",
       "      <td>-0.948691</td>\n",
       "      <td>-0.677942</td>\n",
       "      <td>-0.165029</td>\n",
       "      <td>-1.237237</td>\n",
       "      <td>-1.137736</td>\n",
       "      <td>-1.005094</td>\n",
       "      <td>-1.010433</td>\n",
       "      <td>0.660561</td>\n",
       "      <td>...</td>\n",
       "      <td>-0.253832</td>\n",
       "      <td>2.169928</td>\n",
       "      <td>-0.886171</td>\n",
       "      <td>-0.454243</td>\n",
       "      <td>0</td>\n",
       "      <td>1</td>\n",
       "      <td>0</td>\n",
       "      <td>1</td>\n",
       "      <td>0</td>\n",
       "      <td>1</td>\n",
       "    </tr>\n",
       "    <tr>\n",
       "      <th>1074</th>\n",
       "      <td>-0.532821</td>\n",
       "      <td>0.128354</td>\n",
       "      <td>0.478449</td>\n",
       "      <td>-0.143874</td>\n",
       "      <td>-1.026798</td>\n",
       "      <td>-1.237237</td>\n",
       "      <td>0.681671</td>\n",
       "      <td>-0.415177</td>\n",
       "      <td>0.751761</td>\n",
       "      <td>-0.890187</td>\n",
       "      <td>...</td>\n",
       "      <td>-0.338068</td>\n",
       "      <td>-0.182216</td>\n",
       "      <td>-0.886171</td>\n",
       "      <td>-0.664249</td>\n",
       "      <td>0</td>\n",
       "      <td>1</td>\n",
       "      <td>0</td>\n",
       "      <td>1</td>\n",
       "      <td>0</td>\n",
       "      <td>1</td>\n",
       "    </tr>\n",
       "    <tr>\n",
       "      <th>3063</th>\n",
       "      <td>-0.602237</td>\n",
       "      <td>0.128354</td>\n",
       "      <td>-0.195868</td>\n",
       "      <td>-0.143874</td>\n",
       "      <td>-1.242240</td>\n",
       "      <td>0.843955</td>\n",
       "      <td>-1.895823</td>\n",
       "      <td>-0.415177</td>\n",
       "      <td>-0.079991</td>\n",
       "      <td>1.464653</td>\n",
       "      <td>...</td>\n",
       "      <td>-0.001123</td>\n",
       "      <td>1.238097</td>\n",
       "      <td>0.442089</td>\n",
       "      <td>-0.244237</td>\n",
       "      <td>0</td>\n",
       "      <td>1</td>\n",
       "      <td>0</td>\n",
       "      <td>1</td>\n",
       "      <td>0</td>\n",
       "      <td>1</td>\n",
       "    </tr>\n",
       "    <tr>\n",
       "      <th>6487</th>\n",
       "      <td>0.184477</td>\n",
       "      <td>-1.074962</td>\n",
       "      <td>-0.404752</td>\n",
       "      <td>-0.143874</td>\n",
       "      <td>-1.026798</td>\n",
       "      <td>-1.426437</td>\n",
       "      <td>-1.744206</td>\n",
       "      <td>-0.415177</td>\n",
       "      <td>2.640115</td>\n",
       "      <td>-0.086095</td>\n",
       "      <td>...</td>\n",
       "      <td>-0.211714</td>\n",
       "      <td>0.062025</td>\n",
       "      <td>-0.886171</td>\n",
       "      <td>0.175775</td>\n",
       "      <td>0</td>\n",
       "      <td>1</td>\n",
       "      <td>0</td>\n",
       "      <td>1</td>\n",
       "      <td>0</td>\n",
       "      <td>1</td>\n",
       "    </tr>\n",
       "    <tr>\n",
       "      <th>4705</th>\n",
       "      <td>-0.949316</td>\n",
       "      <td>1.331670</td>\n",
       "      <td>0.918647</td>\n",
       "      <td>0.502589</td>\n",
       "      <td>0.696740</td>\n",
       "      <td>0.276357</td>\n",
       "      <td>-0.076415</td>\n",
       "      <td>-0.039775</td>\n",
       "      <td>0.125022</td>\n",
       "      <td>-0.775316</td>\n",
       "      <td>...</td>\n",
       "      <td>-0.338068</td>\n",
       "      <td>-0.182216</td>\n",
       "      <td>-0.886171</td>\n",
       "      <td>-0.664249</td>\n",
       "      <td>0</td>\n",
       "      <td>1</td>\n",
       "      <td>0</td>\n",
       "      <td>1</td>\n",
       "      <td>0</td>\n",
       "      <td>1</td>\n",
       "    </tr>\n",
       "  </tbody>\n",
       "</table>\n",
       "<p>3000 rows × 21 columns</p>\n",
       "</div>"
      ],
      "text/plain": [
       "      DistrictId     Rooms    Square  LifeSquare  KitchenSquare     Floor  \\\n",
       "6252   -0.671653  0.128354 -0.337460   -0.049307      -0.165029 -0.669639   \n",
       "4684    0.253893  1.331670  1.112110    0.676219       0.481298 -0.858839   \n",
       "1731   -1.018732  1.331670  1.190616   -1.572738      -1.026798 -0.102041   \n",
       "4742   -0.625376 -1.074962 -1.007571   -0.281848      -1.242240 -0.669639   \n",
       "4521    0.045645 -1.074962 -0.594009   -0.143874      -1.026798  0.276357   \n",
       "...          ...       ...       ...         ...            ...       ...   \n",
       "8014   -0.555960 -1.074962 -0.948691   -0.677942      -0.165029 -1.237237   \n",
       "1074   -0.532821  0.128354  0.478449   -0.143874      -1.026798 -1.237237   \n",
       "3063   -0.602237  0.128354 -0.195868   -0.143874      -1.242240  0.843955   \n",
       "6487    0.184477 -1.074962 -0.404752   -0.143874      -1.026798 -1.426437   \n",
       "4705   -0.949316  1.331670  0.918647    0.502589       0.696740  0.276357   \n",
       "\n",
       "      HouseFloor  HouseYear  Ecology_1  Social_1  ...  Social_3  Healthcare_1  \\\n",
       "6252   -1.137736  -1.165980  -0.724280  0.028775  ... -0.211714     -0.182216   \n",
       "4684   -1.289354  -1.326867   1.474138 -0.488141  ... -0.211714     -0.182216   \n",
       "1731    0.681671  -0.415177   1.016293 -1.119927  ... -0.338068     -0.660078   \n",
       "4742   -1.289354  -0.415177  -0.721482 -1.407103  ... -0.338068     -0.182216   \n",
       "4521    0.681671  -0.415177   2.082562  0.545691  ... -0.295950     -0.381325   \n",
       "...          ...        ...        ...       ...  ...       ...           ...   \n",
       "8014   -1.137736  -1.005094  -1.010433  0.660561  ... -0.253832      2.169928   \n",
       "1074    0.681671  -0.415177   0.751761 -0.890187  ... -0.338068     -0.182216   \n",
       "3063   -1.895823  -0.415177  -0.079991  1.464653  ... -0.001123      1.238097   \n",
       "6487   -1.744206  -0.415177   2.640115 -0.086095  ... -0.211714      0.062025   \n",
       "4705   -0.076415  -0.039775   0.125022 -0.775316  ... -0.338068     -0.182216   \n",
       "\n",
       "      Helthcare_2   Shops_1  Ecology_2_A  Ecology_2_B  Ecology_3_A  \\\n",
       "6252    -0.886171 -0.034231            0            1            0   \n",
       "4684    -0.222041 -0.244237            0            1            0   \n",
       "1731    -0.886171 -0.874255            0            1            0   \n",
       "4742    -0.886171 -0.874255            0            1            0   \n",
       "4521     0.442089  0.175775            0            1            0   \n",
       "...           ...       ...          ...          ...          ...   \n",
       "8014    -0.886171 -0.454243            0            1            0   \n",
       "1074    -0.886171 -0.664249            0            1            0   \n",
       "3063     0.442089 -0.244237            0            1            0   \n",
       "6487    -0.886171  0.175775            0            1            0   \n",
       "4705    -0.886171 -0.664249            0            1            0   \n",
       "\n",
       "      Ecology_3_B  Shops_2_A  Shops_2_B  \n",
       "6252            1          0          1  \n",
       "4684            1          0          1  \n",
       "1731            1          0          1  \n",
       "4742            1          0          1  \n",
       "4521            1          0          1  \n",
       "...           ...        ...        ...  \n",
       "8014            1          0          1  \n",
       "1074            1          0          1  \n",
       "3063            1          0          1  \n",
       "6487            1          0          1  \n",
       "4705            1          0          1  \n",
       "\n",
       "[3000 rows x 21 columns]"
      ]
     },
     "execution_count": 32,
     "metadata": {},
     "output_type": "execute_result"
    }
   ],
   "source": [
    "X_valid_scaled = X_valid\n",
    "X_valid_scaled[features_for_std] = scaler.fit_transform(X_valid_scaled[features_for_std])\n",
    "X_valid_scaled"
   ]
  },
  {
   "cell_type": "markdown",
   "metadata": {},
   "source": [
    "Сохраним подготовленные данные:"
   ]
  },
  {
   "cell_type": "code",
   "execution_count": 33,
   "metadata": {},
   "outputs": [],
   "source": [
    "X_train_scaled.to_csv(PREPARED_DATASET_PATH_TRAIN, index=False, encoding='utf-8', sep=';')\n",
    "X_test_scaled.to_csv(PREPARED_DATASET_PATH_TEST, index=False, encoding='utf-8', sep=';')\n",
    "X_valid_scaled.to_csv(PREPARED_DATASET_PATH_VALID, index=False, encoding='utf-8', sep=';')"
   ]
  },
  {
   "cell_type": "markdown",
   "metadata": {},
   "source": [
    "Объявим функцию, отображающую основные метрики предсказаний, а также визуализирующую разницу между предсказанными значениями таргета и их истинными значениями."
   ]
  },
  {
   "cell_type": "code",
   "execution_count": 34,
   "metadata": {},
   "outputs": [],
   "source": [
    "def evaluate_preds(true_values, pred_values, save=False):\n",
    "    \"\"\"Оценка качества модели и график preds vs true\"\"\"\n",
    "    \n",
    "    print(\"R2:\\t\" + str(round(r2(true_values, pred_values), 3)) + \"\\n\" +\n",
    "          \"RMSE:\\t\" + str(round(np.sqrt(mse(true_values, pred_values)), 3)) + \"\\n\" +\n",
    "          \"MSE:\\t\" + str(round(mse(true_values, pred_values), 3))\n",
    "         )\n",
    "    \n",
    "    plt.figure(figsize=(8,8))\n",
    "    \n",
    "    sns.scatterplot(x=pred_values, y=true_values)\n",
    "    plt.plot([0, 500000], [0, 500000], linestyle='--', color='black')  # диагональ, где true_values = pred_values\n",
    "    \n",
    "    plt.xlabel('Predicted values')\n",
    "    plt.ylabel('True values')\n",
    "    plt.title('True vs Predicted values')\n",
    "    \n",
    "    if save == True:\n",
    "        plt.savefig(REPORTS_FILE_PATH + 'report.png')\n",
    "    plt.show()"
   ]
  },
  {
   "cell_type": "markdown",
   "metadata": {},
   "source": [
    "В ходе отладки с использованием GridSearchCV было установлено, что наилучшие результаты показывает модель RandomForestRegressor.\n",
    "Лучшие параметры для модели: criterion='mse',\n",
    "                                 max_depth=10, \n",
    "                                 min_samples_leaf=30, \n",
    "                                 random_state=42,\n",
    "                                 n_estimators=400  \n",
    "                                 "
   ]
  },
  {
   "cell_type": "markdown",
   "metadata": {},
   "source": [
    "Обучение модели на трейне:"
   ]
  },
  {
   "cell_type": "code",
   "execution_count": 35,
   "metadata": {},
   "outputs": [
    {
     "name": "stdout",
     "output_type": "stream",
     "text": [
      "R2:\t0.73\n",
      "RMSE:\t48292.757\n",
      "MSE:\t2332190370.035\n"
     ]
    },
    {
     "data": {
      "image/png": "[encoded data removed]",
      "text/plain": [
       "<Figure size 576x576 with 1 Axes>"
      ]
     },
     "metadata": {},
     "output_type": "display_data"
    }
   ],
   "source": [
    "rf_model = RandomForestRegressor(criterion='mse',\n",
    "                                 max_depth=10, # глубина дерева  \n",
    "                                 min_samples_leaf=30, # минимальное кол-во наблюдений в листе дерева\n",
    "                                 random_state=42,\n",
    "                                 n_estimators=400  # кол-во деревьев\n",
    "                                 )\n",
    "\n",
    "rf_model.fit(X_train_scaled, y_train)\n",
    "y_train_preds = rf_model.predict(X_train_scaled)\n",
    "evaluate_preds(y_train, y_train_preds)"
   ]
  },
  {
   "cell_type": "markdown",
   "metadata": {},
   "source": [
    "Оценка качества предсказания на валидационном датасете:"
   ]
  },
  {
   "cell_type": "code",
   "execution_count": 36,
   "metadata": {},
   "outputs": [
    {
     "name": "stdout",
     "output_type": "stream",
     "text": [
      "R2:\t0.652\n",
      "RMSE:\t54674.384\n",
      "MSE:\t2989288296.781\n"
     ]
    },
    {
     "data": {
      "image/png": "[encoded data removed]",
      "text/plain": [
       "<Figure size 576x576 with 1 Axes>"
      ]
     },
     "metadata": {},
     "output_type": "display_data"
    }
   ],
   "source": [
    "y_valid_preds = rf_model.predict(X_valid_scaled)\n",
    "evaluate_preds(y_valid, y_valid_preds)"
   ]
  },
  {
   "cell_type": "markdown",
   "metadata": {},
   "source": [
    "Меня устраивает такая оценка.\n",
    "Предскажем таргет, используя тестовый датасет.\n",
    "Сформируем датафрейм для публикаци на Kaggle и сохраним его в формате csv."
   ]
  },
  {
   "cell_type": "code",
   "execution_count": 37,
   "metadata": {},
   "outputs": [],
   "source": [
    "y_test_preds = rf_model.predict(X_test_scaled)\n",
    "\n",
    "\n"
   ]
  },
  {
   "cell_type": "code",
   "execution_count": 38,
   "metadata": {},
   "outputs": [],
   "source": [
    "ans_data = pd.DataFrame({'Id':test_data_id_column, 'Price':y_test_preds}, columns=['Id', 'Price'])"
   ]
  },
  {
   "cell_type": "code",
   "execution_count": 39,
   "metadata": {},
   "outputs": [],
   "source": [
    "ans_data.to_csv(PREDICTED_DATASET_PATH_TEST, index=False, encoding='utf-8', sep=',')\n"
   ]
  }
 ],
 "metadata": {
  "kernelspec": {
   "display_name": "Python 3",
   "language": "python",
   "name": "python3"
  },
  "language_info": {
   "codemirror_mode": {
    "name": "ipython",
    "version": 3
   },
   "file_extension": ".py",
   "mimetype": "text/x-python",
   "name": "python",
   "nbconvert_exporter": "python",
   "pygments_lexer": "ipython3",
   "version": "3.8.3"
  }
 },
 "nbformat": 4,
 "nbformat_minor": 4
}
